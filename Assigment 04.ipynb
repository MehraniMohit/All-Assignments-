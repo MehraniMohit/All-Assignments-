{
 "cells": [
  {
   "cell_type": "code",
   "execution_count": null,
   "id": "f113e59a-f64c-405a-8295-5f95a4365a8f",
   "metadata": {},
   "outputs": [],
   "source": [
    "Queston 1:"
   ]
  },
  {
   "cell_type": "code",
   "execution_count": null,
   "id": "bf883e01-c52b-4a90-bfe7-e96794b37ee4",
   "metadata": {},
   "outputs": [],
   "source": [
    "my_tuple = ((1, 2, 3), [4, 5, 6], ('apple', 'banana', 'cherry'), [7, 8, 9])\n",
    "for element in my_tuple:\n",
    "    print(element)\n",
    "new_tuple = my_tuple[0] + tuple(my_tuple[-1])\n",
    "print(\"\\nNew tuple:\", new_tuple)\n"
   ]
  },
  {
   "cell_type": "code",
   "execution_count": null,
   "id": "435dc03f-dd29-44a6-a74b-529b9bd2cfd3",
   "metadata": {},
   "outputs": [],
   "source": []
  },
  {
   "cell_type": "code",
   "execution_count": null,
   "id": "b4ea675f-7031-4f24-a104-0ef6e74a365f",
   "metadata": {},
   "outputs": [],
   "source": [
    "Question 2"
   ]
  },
  {
   "cell_type": "code",
   "execution_count": null,
   "id": "808f633b-5223-4e35-b163-eee07ee5c5ec",
   "metadata": {},
   "outputs": [],
   "source": [
    "inventory = {\n",
    "    \"The Great Gatsby\": {\"price\": 10.99, \"quantity\": 5},\n",
    "    \"Rich dad poor dad\": {\"price\": 8.99, \"quantity\": 8},\n",
    "    \"Harry Potter\": {\"price\": 12.50, \"quantity\": 2},\n",
    "}\n",
    "\n",
    "def add_book(title, price, quantity):\n",
    "    inventory[title] = {\"price\": price, \"quantity\": quantity}\n",
    "add_book(\"1984\", 15.99, 4)\n",
    "book_titles = inventory.keys()\n",
    "print(\"Book titles:\", list(book_titles))"
   ]
  },
  {
   "cell_type": "code",
   "execution_count": null,
   "id": "0d28baa7-1cf2-450b-995d-586fa0a86f7f",
   "metadata": {},
   "outputs": [],
   "source": [
    "def remove_out_of_stock():\n",
    "    out_of_stock_books = [title for title, details in inventory.items() if details[\"quantity\"] == 0]\n",
    "    for book in out_of_stock_books:\n",
    "        del inventory[book]\n",
    "\n",
    "inventory[\"Harry Potter\"][\"quantity\"] = 0\n",
    "remove_out_of_stock()\n",
    "\n",
    "print(\"\\nUpdated inventory:\")\n",
    "for title, details in inventory.items():\n",
    "    print(f\"{title}: {details}\")"
   ]
  },
  {
   "cell_type": "code",
   "execution_count": null,
   "id": "82ff806d-cbaf-4402-b7e4-d53652ee3753",
   "metadata": {},
   "outputs": [],
   "source": []
  },
  {
   "cell_type": "code",
   "execution_count": null,
   "id": "00cb435d-f5e2-4eff-8e0c-63f135fb2c08",
   "metadata": {},
   "outputs": [],
   "source": [
    "Questio 3"
   ]
  },
  {
   "cell_type": "code",
   "execution_count": null,
   "id": "e6a53e76-0d1d-4559-94f3-b34303da4ce4",
   "metadata": {},
   "outputs": [],
   "source": [
    "products = {\n",
    "    101: {\"name\": \"Laptop\", \"category\": \"Electronics\", \"price\": 1200, \"stock\": 50},\n",
    "    102: {\"name\": \"Shirt\", \"category\": \"Apparel\", \"price\": 25, \"stock\": 200},\n",
    "    103: {\"name\": \"Coffee Maker\", \"category\": \"Home Appliances\", \"price\": 80, \"stock\": 30},\n",
    "}\n",
    "products[102][\"stock\"] += 50\n",
    "products[104] = {\"name\": \"Smartphone\", \"category\": \"Electronics\", \"price\": 800, \"stock\": 100}\n",
    "print(\"Updated products:\")\n",
    "for product_id, details in products.items():\n",
    "    print(f\"ID: {product_id}, Details: {details}\")\n"
   ]
  },
  {
   "cell_type": "code",
   "execution_count": null,
   "id": "07a939c6-8b6e-4001-921b-3eb30e5b6a1e",
   "metadata": {},
   "outputs": [],
   "source": []
  },
  {
   "cell_type": "code",
   "execution_count": null,
   "id": "27455b92-6cde-472f-8bec-73d141cdbc53",
   "metadata": {},
   "outputs": [],
   "source": [
    "Question 4"
   ]
  },
  {
   "cell_type": "code",
   "execution_count": null,
   "id": "355044cd-9661-4449-b962-fc5decc34123",
   "metadata": {},
   "outputs": [],
   "source": [
    "shopping_list = [\"apple\", \"banana\", \"apple\", \"orange\", \"banana\", \"grape\"]\n",
    "unique_items = list(set(shopping_list))\n",
    "print(\"Unique shopping list:\", unique_items)"
   ]
  },
  {
   "cell_type": "code",
   "execution_count": null,
   "id": "b73db482-5884-4e99-8ded-8e44121d8ba5",
   "metadata": {},
   "outputs": [],
   "source": []
  },
  {
   "cell_type": "code",
   "execution_count": null,
   "id": "0c1ee8c1-61cf-4be6-8cc1-b372a75ecc99",
   "metadata": {},
   "outputs": [],
   "source": [
    "Question 5"
   ]
  },
  {
   "cell_type": "code",
   "execution_count": null,
   "id": "a5420e51-2669-4fa2-a99c-b2af6f248197",
   "metadata": {},
   "outputs": [],
   "source": [
    "course_a = {\"John\", \"Alice\", \"Bob\", \"David\"}\n",
    "course_b = {\"Alice\", \"Eve\", \"Charlie\", \"David\"}\n",
    "\n",
    "difference_a_b = course_a - course_b\n",
    "print(\"Students in Course A but not in Course B:\", difference_a_b)"
   ]
  },
  {
   "cell_type": "code",
   "execution_count": null,
   "id": "c56097f4-faf1-4fce-9305-022041e43871",
   "metadata": {},
   "outputs": [],
   "source": []
  },
  {
   "cell_type": "code",
   "execution_count": null,
   "id": "8417cf56-c2b2-4b58-95e1-159e8f2bcaec",
   "metadata": {},
   "outputs": [],
   "source": [
    "Question 6"
   ]
  },
  {
   "cell_type": "code",
   "execution_count": null,
   "id": "2f4f539a-4e67-4cb0-8798-4e4ee330c0fc",
   "metadata": {},
   "outputs": [],
   "source": [
    "sum_of_evens = 0\n",
    "for number in range(1, 51):\n",
    "    # Check if the number is even\n",
    "    if number % 2 == 0:\n",
    "        sum_of_evens += number\n",
    "print(\"The sum of all even numbers between 1 and 50 is:\", sum_of_evens)\n"
   ]
  },
  {
   "cell_type": "code",
   "execution_count": null,
   "id": "fae224e1-601f-4a12-965a-c84eccf9738d",
   "metadata": {},
   "outputs": [],
   "source": []
  },
  {
   "cell_type": "code",
   "execution_count": null,
   "id": "f75d304a-7c24-44d9-ab42-a9236df9a297",
   "metadata": {},
   "outputs": [],
   "source": [
    "question 7"
   ]
  },
  {
   "cell_type": "code",
   "execution_count": null,
   "id": "fda8a82c-0f8f-4ec1-8123-ab6d2b4da0c8",
   "metadata": {},
   "outputs": [],
   "source": [
    "number = int(input(\"Enter a number between 1 and 10: \"))\n",
    "if 1 <= number <= 10:\n",
    "    print(f\"Multiplication table for {number}:\")\n",
    "    for i in range(1, 11):\n",
    "        print(f\"{number} x {i} = {number * i}\")\n",
    "else:\n",
    "    print(\"Please enter a valid number between 1 and 10.\")\n"
   ]
  },
  {
   "cell_type": "code",
   "execution_count": null,
   "id": "beb8566e-e944-4a6e-89ec-385be257aee1",
   "metadata": {},
   "outputs": [],
   "source": []
  },
  {
   "cell_type": "code",
   "execution_count": null,
   "id": "9ae3ab56-4bc9-4975-9436-7e2ab17776f5",
   "metadata": {},
   "outputs": [],
   "source": [
    "question 8"
   ]
  },
  {
   "cell_type": "code",
   "execution_count": null,
   "id": "c58f220b-9780-40d4-9fab-fb4506cc85a1",
   "metadata": {},
   "outputs": [],
   "source": [
    "number = int(input(\"Enter a number: \"))\n",
    "power = 1\n",
    "while power <= 10:\n",
    "    result = number ** power\n",
    "    print(f\"{number}^{power} = {result}\")\n",
    "    power += 1\n"
   ]
  },
  {
   "cell_type": "code",
   "execution_count": null,
   "id": "acb7f87b-7203-466f-8dc8-10b76483c9b1",
   "metadata": {},
   "outputs": [],
   "source": []
  },
  {
   "cell_type": "code",
   "execution_count": null,
   "id": "adbc7e43-9463-4322-b761-441b044edf86",
   "metadata": {},
   "outputs": [],
   "source": []
  }
 ],
 "metadata": {
  "kernelspec": {
   "display_name": "Python 3 (ipykernel)",
   "language": "python",
   "name": "python3"
  },
  "language_info": {
   "codemirror_mode": {
    "name": "ipython",
    "version": 3
   },
   "file_extension": ".py",
   "mimetype": "text/x-python",
   "name": "python",
   "nbconvert_exporter": "python",
   "pygments_lexer": "ipython3",
   "version": "3.12.7"
  }
 },
 "nbformat": 4,
 "nbformat_minor": 5
}
