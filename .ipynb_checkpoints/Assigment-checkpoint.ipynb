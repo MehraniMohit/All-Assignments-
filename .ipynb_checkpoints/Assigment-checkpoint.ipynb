{
 "cells": [
  {
   "cell_type": "code",
   "execution_count": null,
   "id": "2d97720b-7145-414f-ab31-19d1a6e929dc",
   "metadata": {},
   "outputs": [],
   "source": [
    "1.what is the length of the salaries list."
   ]
  },
  {
   "cell_type": "code",
   "execution_count": 1,
   "id": "384f3b2b-5b45-4846-b8c3-2262bc515666",
   "metadata": {},
   "outputs": [
    {
     "data": {
      "text/plain": [
       "7"
      ]
     },
     "execution_count": 1,
     "metadata": {},
     "output_type": "execute_result"
    }
   ],
   "source": [
    "salaries=['20k','40k','50k','60k','35k','89k','40k']\n",
    "len(salaries)"
   ]
  },
  {
   "cell_type": "code",
   "execution_count": null,
   "id": "4ca47069-a85e-4511-a7b7-5ac5940b2f39",
   "metadata": {},
   "outputs": [],
   "source": []
  },
  {
   "cell_type": "code",
   "execution_count": null,
   "id": "f1238e4e-de76-4bef-803b-073c71a8463e",
   "metadata": {},
   "outputs": [],
   "source": [
    "2. Retrieve the third salary in the list by using index."
   ]
  },
  {
   "cell_type": "code",
   "execution_count": 2,
   "id": "d3d7c3a4-934d-49ba-b5d6-f6b6ee92b70e",
   "metadata": {},
   "outputs": [
    {
     "data": {
      "text/plain": [
       "'60k'"
      ]
     },
     "execution_count": 2,
     "metadata": {},
     "output_type": "execute_result"
    }
   ],
   "source": [
    "salaries=['20k','40k','50k','60k','35k','89k','40k']\n",
    "salaries[3]"
   ]
  },
  {
   "cell_type": "code",
   "execution_count": null,
   "id": "739bf187-26bd-4c18-a0ff-b47701426cd8",
   "metadata": {},
   "outputs": [],
   "source": []
  },
  {
   "cell_type": "code",
   "execution_count": null,
   "id": "b542dfef-46e9-460a-8e96-a0dc5ba20460",
   "metadata": {},
   "outputs": [],
   "source": [
    "3.Extract the last salary from the list by using a negative index."
   ]
  },
  {
   "cell_type": "code",
   "execution_count": 3,
   "id": "ef17d25e-a88d-4d45-8df2-7ae6048f5c6f",
   "metadata": {},
   "outputs": [
    {
     "data": {
      "text/plain": [
       "['20k', '40k', '50k', '60k', '35k', '89k']"
      ]
     },
     "execution_count": 3,
     "metadata": {},
     "output_type": "execute_result"
    }
   ],
   "source": [
    "salaries=['20k','40k','50k','60k','35k','89k','40k']\n",
    "salaries[:-1]"
   ]
  },
  {
   "cell_type": "code",
   "execution_count": null,
   "id": "79520604-60ab-478d-8b0e-8f7477dc2d94",
   "metadata": {},
   "outputs": [],
   "source": []
  },
  {
   "cell_type": "code",
   "execution_count": null,
   "id": "84c53f62-7404-4abb-92ec-56838635fd78",
   "metadata": {},
   "outputs": [],
   "source": [
    "4. Slice the salaries list to get only the middle three salaries."
   ]
  },
  {
   "cell_type": "code",
   "execution_count": 4,
   "id": "390bb78c-8856-43c4-b9ab-34966460a9f7",
   "metadata": {},
   "outputs": [
    {
     "data": {
      "text/plain": [
       "['50k', '60k', '35k']"
      ]
     },
     "execution_count": 4,
     "metadata": {},
     "output_type": "execute_result"
    }
   ],
   "source": [
    "salaries=['20k','40k','50k','60k','35k','89k','40k']\n",
    "salaries[2:5]"
   ]
  },
  {
   "cell_type": "code",
   "execution_count": null,
   "id": "933d85bf-93c8-4fed-966f-a477a0bb6db8",
   "metadata": {},
   "outputs": [],
   "source": []
  },
  {
   "cell_type": "code",
   "execution_count": null,
   "id": "e0c87b65-0072-4864-bd4b-b886694701b2",
   "metadata": {},
   "outputs": [],
   "source": [
    "5.Add a new salary to the list, ‘100k’ by using append() method."
   ]
  },
  {
   "cell_type": "code",
   "execution_count": 5,
   "id": "d460fe43-4f0b-4eb1-bef2-b72d0e8df917",
   "metadata": {},
   "outputs": [
    {
     "data": {
      "text/plain": [
       "['20k', '40k', '50k', '60k', '35k', '89k', '40k', '100k']"
      ]
     },
     "execution_count": 5,
     "metadata": {},
     "output_type": "execute_result"
    }
   ],
   "source": [
    "salaries=['20k','40k','50k','60k','35k','89k','40k']\n",
    "salaries.append('100k')\n",
    "salaries"
   ]
  },
  {
   "cell_type": "code",
   "execution_count": null,
   "id": "ec7748c4-33ae-4049-9619-115eb07a8c48",
   "metadata": {},
   "outputs": [],
   "source": []
  },
  {
   "cell_type": "code",
   "execution_count": null,
   "id": "bba1fd4e-a6eb-41dc-80d3-19cfe4a79848",
   "metadata": {},
   "outputs": [],
   "source": [
    "5. Add a new salary to the list, ‘120k’ without method."
   ]
  },
  {
   "cell_type": "code",
   "execution_count": 6,
   "id": "2a2384ed-c9d1-4ab7-a24b-94b03f6205f2",
   "metadata": {},
   "outputs": [
    {
     "data": {
      "text/plain": [
       "['20k', '40k', '50k', '60k', '35k', '89k', '40k', '120k']"
      ]
     },
     "execution_count": 6,
     "metadata": {},
     "output_type": "execute_result"
    }
   ],
   "source": [
    "salaries=['20k','40k','50k','60k','35k','89k','40k']\n",
    "salaries=salaries+['120k']\n",
    "salaries"
   ]
  },
  {
   "cell_type": "code",
   "execution_count": null,
   "id": "0941999b-f041-43a0-8654-133f511beccd",
   "metadata": {},
   "outputs": [],
   "source": []
  },
  {
   "cell_type": "code",
   "execution_count": null,
   "id": "b957c3f3-6afc-4277-91da-6fca58401429",
   "metadata": {},
   "outputs": [],
   "source": [
    "6. Replace the third salary in the list with '55k' and print the updated list."
   ]
  },
  {
   "cell_type": "code",
   "execution_count": 7,
   "id": "3e620c59-81e4-4ec6-931a-c7137e2f6ae6",
   "metadata": {},
   "outputs": [
    {
     "data": {
      "text/plain": [
       "['20k', '40k', '55k', '60k', '35k', '89k', '40k']"
      ]
     },
     "execution_count": 7,
     "metadata": {},
     "output_type": "execute_result"
    }
   ],
   "source": [
    "salaries = ['20k', '40k', '50k', '60k', '35k', '89k', '40k']\n",
    "salaries[2]='55k'\n",
    "salaries"
   ]
  },
  {
   "cell_type": "code",
   "execution_count": null,
   "id": "9ba08997-3a6d-44f4-83f3-6df738963941",
   "metadata": {},
   "outputs": [],
   "source": []
  },
  {
   "cell_type": "code",
   "execution_count": null,
   "id": "1b307077-89f5-49ea-be39-4085f2b68f12",
   "metadata": {},
   "outputs": [],
   "source": [
    "7. Count how many times '40k' appears in the list."
   ]
  },
  {
   "cell_type": "code",
   "execution_count": 8,
   "id": "ed805d1a-2edb-402a-9549-753f4592e3d8",
   "metadata": {},
   "outputs": [
    {
     "data": {
      "text/plain": [
       "2"
      ]
     },
     "execution_count": 8,
     "metadata": {},
     "output_type": "execute_result"
    }
   ],
   "source": [
    "salaries = ['20k', '40k', '50k', '60k', '35k', '89k', '40k']\n",
    "salaries.count('40k')"
   ]
  },
  {
   "cell_type": "code",
   "execution_count": null,
   "id": "df84190f-6f65-426b-b8cd-349ad46739ad",
   "metadata": {},
   "outputs": [],
   "source": []
  },
  {
   "cell_type": "code",
   "execution_count": null,
   "id": "86fc4157-1ab7-4470-8612-3e0d6f982ab9",
   "metadata": {},
   "outputs": [],
   "source": [
    "8. Insert a new salary at the second position."
   ]
  },
  {
   "cell_type": "code",
   "execution_count": 9,
   "id": "63a14b38-4620-4a04-9763-9bc672ea049a",
   "metadata": {},
   "outputs": [
    {
     "data": {
      "text/plain": [
       "['20k', '100', '40k', '50k', '60k', '35k', '89k', '40k']"
      ]
     },
     "execution_count": 9,
     "metadata": {},
     "output_type": "execute_result"
    }
   ],
   "source": [
    "salaries = ['20k', '40k', '50k', '60k', '35k', '89k', '40k']\n",
    "salaries.insert(1,'100')\n",
    "salaries"
   ]
  },
  {
   "cell_type": "code",
   "execution_count": null,
   "id": "3d4a182d-1f4b-44f1-8713-08f8fed02d61",
   "metadata": {},
   "outputs": [],
   "source": []
  },
  {
   "cell_type": "code",
   "execution_count": null,
   "id": "b2d74de3-f15b-4744-9a57-ba49cc61557f",
   "metadata": {},
   "outputs": [],
   "source": [
    "9. Reverse the order of the salaries list with method."
   ]
  },
  {
   "cell_type": "code",
   "execution_count": 10,
   "id": "cd496021-6896-438f-a7cd-1d8b2481d60a",
   "metadata": {},
   "outputs": [
    {
     "data": {
      "text/plain": [
       "['40k', '89k', '35k', '60k', '50k', '40k', '20k']"
      ]
     },
     "execution_count": 10,
     "metadata": {},
     "output_type": "execute_result"
    }
   ],
   "source": [
    "salaries = ['20k', '40k', '50k', '60k', '35k', '89k', '40k']\n",
    "salaries.reverse()\n",
    "salaries"
   ]
  },
  {
   "cell_type": "code",
   "execution_count": null,
   "id": "0d937322-a281-4a5b-8ebc-82a9302ca663",
   "metadata": {},
   "outputs": [],
   "source": []
  },
  {
   "cell_type": "code",
   "execution_count": null,
   "id": "2dad03ec-d1f1-4c06-86f4-19fa39cf4541",
   "metadata": {},
   "outputs": [],
   "source": [
    "10. Reverse the order of the salaries list without method"
   ]
  },
  {
   "cell_type": "code",
   "execution_count": 11,
   "id": "3cb9bf45-1d4c-4006-8706-cc413ce68ede",
   "metadata": {},
   "outputs": [
    {
     "data": {
      "text/plain": [
       "['40k', '89k', '35k', '60k', '50k', '40k', '20k']"
      ]
     },
     "execution_count": 11,
     "metadata": {},
     "output_type": "execute_result"
    }
   ],
   "source": [
    "salaries = ['20k', '40k', '50k', '60k', '35k', '89k', '40k']\n",
    "salaries=salaries[::-1]\n",
    "salaries"
   ]
  },
  {
   "cell_type": "code",
   "execution_count": null,
   "id": "6d1cd251-08d1-4ef1-89c8-07a3a2abff72",
   "metadata": {},
   "outputs": [],
   "source": []
  }
 ],
 "metadata": {
  "kernelspec": {
   "display_name": "Python 3 (ipykernel)",
   "language": "python",
   "name": "python3"
  },
  "language_info": {
   "codemirror_mode": {
    "name": "ipython",
    "version": 3
   },
   "file_extension": ".py",
   "mimetype": "text/x-python",
   "name": "python",
   "nbconvert_exporter": "python",
   "pygments_lexer": "ipython3",
   "version": "3.12.7"
  }
 },
 "nbformat": 4,
 "nbformat_minor": 5
}
