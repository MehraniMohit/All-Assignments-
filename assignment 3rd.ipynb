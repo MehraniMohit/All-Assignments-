{
 "cells": [
  {
   "cell_type": "code",
   "execution_count": null,
   "id": "5caf8db4-f4e2-405e-be76-dc85358258c9",
   "metadata": {},
   "outputs": [],
   "source": [
    "question 1:"
   ]
  },
  {
   "cell_type": "code",
   "execution_count": 13,
   "id": "951fda22-7579-43ef-8179-7e35b5410ba7",
   "metadata": {},
   "outputs": [
    {
     "name": "stdin",
     "output_type": "stream",
     "text": [
      "Enter your age:  19\n"
     ]
    },
    {
     "name": "stdout",
     "output_type": "stream",
     "text": [
      "You are eligible for a loan.\n"
     ]
    }
   ],
   "source": [
    "# Get user age\n",
    "age = int(input(\"Enter your age: \"))\n",
    "\n",
    "if age >= 18:\n",
    "    print(\"You are eligible for a loan.\")\n",
    "else:\n",
    "   \n",
    "    credit_score = int(input(\"Enter your credit score: \"))\n",
    "    if credit_score >= 650:\n",
    "        print(\"You are eligible for a loan.\")\n",
    "    else:\n",
    "        \n",
    "        annual_income = int(input(\"Enter your annual income: \"))\n",
    "        if annual_income >= 30000 and credit_score >= 700:\n",
    "            print(\"You are eligible for 25,000 Dollars.\")\n",
    "        else:\n",
    "            print(\"You are not eligible.\")\n"
   ]
  },
  {
   "cell_type": "code",
   "execution_count": null,
   "id": "d90fbc5e-4b27-4dbd-9d48-d32b88ba59db",
   "metadata": {},
   "outputs": [],
   "source": []
  },
  {
   "cell_type": "code",
   "execution_count": null,
   "id": "d91351a5-89a5-4909-afb1-2b4fd35735ff",
   "metadata": {},
   "outputs": [],
   "source": [
    "question 2:"
   ]
  },
  {
   "cell_type": "code",
   "execution_count": 19,
   "id": "6e5c2365-b6b8-4f35-8bb8-ce1c3adaf3bd",
   "metadata": {},
   "outputs": [
    {
     "name": "stdin",
     "output_type": "stream",
     "text": [
      "Enter your age:  4\n"
     ]
    },
    {
     "name": "stdout",
     "output_type": "stream",
     "text": [
      "You are underage, and don't ask for experience.\n"
     ]
    }
   ],
   "source": [
    "age = int(input(\"Enter your age: \"))\n",
    "\n",
    "if age < 18:\n",
    "    print(\"You are underage, and don't ask for experience.\")\n",
    "else:\n",
    "    experience = int(input(\"Enter your years of experience: \"))\n",
    "    \n",
    "    if experience >= 10:\n",
    "        print(\"You have a lot of experience.\")\n",
    "    elif 5 <= experience <= 9:\n",
    "        print(\"You have moderate experience.\")\n",
    "    elif 2 <= experience <= 4:\n",
    "        print(\"You are relatively new.\")\n",
    "    else:  \n",
    "        print(\"You are just starting out.\")\n"
   ]
  },
  {
   "cell_type": "code",
   "execution_count": null,
   "id": "cefbd91f-f53a-4956-97f6-9cb5fc7bc789",
   "metadata": {},
   "outputs": [],
   "source": []
  },
  {
   "cell_type": "code",
   "execution_count": null,
   "id": "cedb805a-31c8-4a06-85d1-f354ec5c807c",
   "metadata": {},
   "outputs": [],
   "source": [
    "question 3:"
   ]
  },
  {
   "cell_type": "code",
   "execution_count": null,
   "id": "614cfae3-8450-4c9c-8617-423aacd32f22",
   "metadata": {},
   "outputs": [],
   "source": []
  },
  {
   "cell_type": "code",
   "execution_count": null,
   "id": "e8f69974-93c4-41b2-b810-4ebd3218ba2a",
   "metadata": {},
   "outputs": [],
   "source": []
  },
  {
   "cell_type": "code",
   "execution_count": null,
   "id": "7a30f27b-df37-4c14-8bd2-068171af778f",
   "metadata": {},
   "outputs": [],
   "source": [
    "question 4:"
   ]
  },
  {
   "cell_type": "code",
   "execution_count": 20,
   "id": "b69ca831-ff68-43ed-b78b-54d4bc6b588a",
   "metadata": {},
   "outputs": [
    {
     "name": "stdin",
     "output_type": "stream",
     "text": [
      "Enter your email address:  xyz@gmail.com\n"
     ]
    },
    {
     "name": "stdout",
     "output_type": "stream",
     "text": [
      "Email format is valid.\n"
     ]
    }
   ],
   "source": [
    "email = input(\"Enter your email address: \")\n",
    "\n",
    "if \"@\" in email and \".\" in email:\n",
    "    print(\"Email format is valid.\")\n",
    "else:\n",
    "    print(\"Invalid email format.\")\n"
   ]
  },
  {
   "cell_type": "code",
   "execution_count": null,
   "id": "de912c4a-c726-4741-b6ed-50f128badb90",
   "metadata": {},
   "outputs": [],
   "source": []
  },
  {
   "cell_type": "code",
   "execution_count": null,
   "id": "1a375bc8-f4e2-4559-b6f1-3b079916d749",
   "metadata": {},
   "outputs": [],
   "source": [
    "question 5:"
   ]
  },
  {
   "cell_type": "code",
   "execution_count": 21,
   "id": "134e1bfb-1738-470b-9ee2-16cdd3e66f8d",
   "metadata": {},
   "outputs": [
    {
     "name": "stdout",
     "output_type": "stream",
     "text": [
      "Data types of tuple elements: ['int', 'float', 'str', 'list', 'tuple']\n"
     ]
    }
   ],
   "source": [
    "x = (11, 22.333, 'apple', [1, 2, 3], ('a', 'b'))\n",
    "data_types = []\n",
    "\n",
    "for element in x:\n",
    "    data_types.append(type(element).__name__)\n",
    "\n",
    "print(\"Data types of tuple elements:\", data_types)\n"
   ]
  },
  {
   "cell_type": "code",
   "execution_count": null,
   "id": "7f6ae76f-63b1-43cd-a9bf-030df17bb80e",
   "metadata": {},
   "outputs": [],
   "source": []
  },
  {
   "cell_type": "code",
   "execution_count": null,
   "id": "3e14e4ab-8c53-4407-a252-eb0d93e6cdd2",
   "metadata": {},
   "outputs": [],
   "source": [
    "question 6:"
   ]
  },
  {
   "cell_type": "code",
   "execution_count": null,
   "id": "bc866be1-4cc3-4ce4-81c6-08b8fa27c539",
   "metadata": {},
   "outputs": [],
   "source": [
    "active_users = [(\"alice\", \"admin\"), (\"bob\", \"user\"), (\"charlie\", \"moderator\")]\n",
    "username = input(\"Enter the username: \")\n",
    "\n",
    "for user in active_users:\n",
    "    if user[0] == username:\n",
    "        print(f\"The username '{username}' exists in the list.\")\n",
    "        \n",
    "        if user is (\"alice\", \"admin\"):\n",
    "            print(f\"The user '{username}' is the admin.\")\n",
    "        else:\n",
    "            print(f\"The user '{username}' is not the admin.\")\n",
    "        break\n",
    "else:\n",
    "    print(f\"The username '{username}' does not exist in the list.\")\n"
   ]
  },
  {
   "cell_type": "code",
   "execution_count": null,
   "id": "a2d30cf9-ddc4-4bca-85fa-5e1bbe41b49b",
   "metadata": {},
   "outputs": [],
   "source": []
  },
  {
   "cell_type": "code",
   "execution_count": null,
   "id": "7eaee3aa-70c5-413e-81b3-aff474b8c6af",
   "metadata": {},
   "outputs": [],
   "source": [
    "question 7:"
   ]
  },
  {
   "cell_type": "code",
   "execution_count": null,
   "id": "82bba795-ddd5-4588-905d-c671911034f3",
   "metadata": {},
   "outputs": [],
   "source": [
    "person1 = ['John', 'Mary', 'Springfield', '12345']\n",
    "person2 = ['John', 'Mary', 'Springfield', '12345']\n",
    "person3 = ['John', 'Mary', 'Springfield', '67890']\n",
    "\n",
    "if person1 == person2:\n",
    "    print(\"person1 and person2 are Siblings.\")\n",
    "else:\n",
    "    print(\"person1 and person2 have no relation.\")\n",
    "\n",
    "if person1[:3] == person3[:3] and person1[3] != person3[3]:\n",
    "    print(\"person1 and person3 are Cousins.\")\n",
    "else:\n",
    "    print(\"person1 and person3 have no relation.\")\n"
   ]
  },
  {
   "cell_type": "code",
   "execution_count": null,
   "id": "4415beb6-4344-4122-95b0-eaa66ef83797",
   "metadata": {},
   "outputs": [],
   "source": []
  },
  {
   "cell_type": "code",
   "execution_count": null,
   "id": "3f32d454-2ce8-44ce-a1b1-abad5b4f3759",
   "metadata": {},
   "outputs": [],
   "source": [
    "question 8:"
   ]
  },
  {
   "cell_type": "code",
   "execution_count": null,
   "id": "7e1d3585-383c-4ba7-b850-cf1f4d400cfa",
   "metadata": {},
   "outputs": [],
   "source": [
    "\n",
    "title = input(\"Enter the book's title: \")\n",
    "author = input(\"Enter the author's name: \")\n",
    "year = int(input(\"Enter the year of publication: \"))\n",
    "price = float(input(\"Enter the price of the book: \"))\n",
    "\n",
    "book_details = (title, author, year, price)\n",
    "\n",
    "print(\"\\nStored Book Information:\")\n",
    "print(f\"Title: {book_details[0]}\")\n",
    "print(f\"Author: {book_details[1]}\")\n",
    "print(f\"Year of Publication: {book_details[2]}\")\n",
    "print(f\"Price: {book_details[3]}\")\n"
   ]
  },
  {
   "cell_type": "code",
   "execution_count": null,
   "id": "f8672573-b9d1-4595-baf2-a63f425bca95",
   "metadata": {},
   "outputs": [],
   "source": []
  },
  {
   "cell_type": "code",
   "execution_count": null,
   "id": "a1ebe0c5-f2f9-4712-8d3b-0663ae434802",
   "metadata": {},
   "outputs": [],
   "source": [
    "question 9:"
   ]
  },
  {
   "cell_type": "code",
   "execution_count": null,
   "id": "3ec298bc-3832-45f0-97e7-dd6b608b3387",
   "metadata": {},
   "outputs": [],
   "source": [
    "offered_subjects = [\"Math\", \"Science\", \"History\", \"English\", \"Computer Science\"]\n",
    "\n",
    "chosen_subject = input(\"Enter the subject you want to check: \")\n",
    "\n",
    "if chosen_subject in offered_subjects:\n",
    "    print(\"Subject is available.\")\n",
    "else:\n",
    "    print(\"Subject is not available.\")\n"
   ]
  },
  {
   "cell_type": "code",
   "execution_count": null,
   "id": "2a052a9b-2f48-4932-8c28-cafb89eb8d13",
   "metadata": {},
   "outputs": [],
   "source": []
  },
  {
   "cell_type": "code",
   "execution_count": null,
   "id": "e9f0c58f-63db-4939-a678-7e2b30e833b2",
   "metadata": {},
   "outputs": [],
   "source": [
    "question 10:"
   ]
  },
  {
   "cell_type": "code",
   "execution_count": null,
   "id": "0b0ee9e0-6ffb-4cee-a496-e7bab3c669ed",
   "metadata": {},
   "outputs": [],
   "source": [
    "numbers_tuple = (1, 2, 3, 4, 2, 5, 6, 2, 7, 8)\n",
    "m1 = int(input(\"Enter a number to find its first occurrence index: \"))\n",
    "\n",
    "if num1 in numbers_tuple:\n",
    "    print(f\"First occurrence of {num1}: index {numbers_tuple.index(num1)}\")\n",
    "else:\n",
    "    print(f\"{num1} is not in the tuple.\")\n",
    "\n",
    "num2 = int(input(\"Enter another number to count its occurrences: \"))\n",
    "print(f\"{num2} appears {numbers_tuple.count(num2)} times.\")\n"
   ]
  }
 ],
 "metadata": {
  "kernelspec": {
   "display_name": "Python 3 (ipykernel)",
   "language": "python",
   "name": "python3"
  },
  "language_info": {
   "codemirror_mode": {
    "name": "ipython",
    "version": 3
   },
   "file_extension": ".py",
   "mimetype": "text/x-python",
   "name": "python",
   "nbconvert_exporter": "python",
   "pygments_lexer": "ipython3",
   "version": "3.12.7"
  }
 },
 "nbformat": 4,
 "nbformat_minor": 5
}
