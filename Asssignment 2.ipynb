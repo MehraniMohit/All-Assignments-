{
 "cells": [
  {
   "cell_type": "code",
   "execution_count": 7,
   "id": "19889f9d-17aa-47aa-97f2-03e0562ce30c",
   "metadata": {},
   "outputs": [
    {
     "name": "stdin",
     "output_type": "stream",
     "text": [
      "Enter your age:  22\n"
     ]
    },
    {
     "name": "stdout",
     "output_type": "stream",
     "text": [
      "You are an Adult\n"
     ]
    }
   ],
   "source": [
    "#question 1:\n",
    "\n",
    "age = int(input(\"Enter your age: \")) \n",
    "\n",
    "if age >= 0 and age <= 12:\n",
    "    print(\"You are a Child\") \n",
    "elif age >= 13 and age <= 19:\n",
    "    print(\"You are a Teenager\")  \n",
    "elif age >= 20 and age <= 64:\n",
    "    print(\"You are an Adult\") \n",
    "else: \n",
    "    print(\"You are a Senior\")  \n"
   ]
  },
  {
   "cell_type": "code",
   "execution_count": null,
   "id": "53fae1df-ff50-4a8f-a895-665f277a06dc",
   "metadata": {},
   "outputs": [],
   "source": []
  },
  {
   "cell_type": "code",
   "execution_count": null,
   "id": "30d2ce10-a71c-49d7-b82a-0983dfd7dda4",
   "metadata": {},
   "outputs": [],
   "source": []
  },
  {
   "cell_type": "code",
   "execution_count": null,
   "id": "725ad476-385d-4d30-ae6d-456cc0780369",
   "metadata": {},
   "outputs": [],
   "source": []
  },
  {
   "cell_type": "code",
   "execution_count": null,
   "id": "fb7e271f-1859-45e5-b751-5faf905a0f1a",
   "metadata": {},
   "outputs": [],
   "source": [
    "Question 2: "
   ]
  },
  {
   "cell_type": "code",
   "execution_count": null,
   "id": "4738be2d-7b77-4865-84cb-3d2abd57eb8a",
   "metadata": {},
   "outputs": [],
   "source": [
    "membership_status = input(\"Enter membership status (premium/regular): \")\n",
    "purchase_amount = float(input(\"Enter purchase amount: \"))\n",
    "\n",
    "if membership_status == \"premium\" and purchase_amount >= 1000:\n",
    "    print(\"Eligible for discount\")\n",
    "elif membership_status == \"regular\" and purchase_amount >= 2000:\n",
    "    print(\"Eligible for discount\")\n",
    "else:\n",
    "    print(\"Not eligible for discount\")"
   ]
  },
  {
   "cell_type": "code",
   "execution_count": null,
   "id": "7acda639-f2d9-4d2d-91c1-5512d3e22450",
   "metadata": {},
   "outputs": [],
   "source": []
  },
  {
   "cell_type": "code",
   "execution_count": null,
   "id": "e50f9871-6724-4996-a429-041f409e3aed",
   "metadata": {},
   "outputs": [],
   "source": [
    "Question 3: "
   ]
  },
  {
   "cell_type": "code",
   "execution_count": null,
   "id": "7173ff8f-1294-4266-9bad-4f87bbe6e0b2",
   "metadata": {},
   "outputs": [],
   "source": [
    "age = int(input(\"Enter your age: \"))\n",
    "citizenship_status = input(\"Enter your citizenship status (citizen/non-citizen): \")\n",
    "special_region = input(\"Are you from a special region where voting is allowed from age 16? (yes/no): \")\n",
    "\n",
    "if age >= 18 and citizenship_status == \"citizen\":\n",
    "    print(\"Eligible to vote\")\n",
    "elif age >= 16 and citizenship_status == \"citizen\" and special_region == \"yes\":\n",
    "    print(\"Eligible to vote\")\n",
    "else:\n",
    "    print(\"Not eligible to vote\")"
   ]
  },
  {
   "cell_type": "code",
   "execution_count": null,
   "id": "a9a6f27d-7d52-40aa-a301-d8f0f9479606",
   "metadata": {},
   "outputs": [],
   "source": []
  },
  {
   "cell_type": "code",
   "execution_count": null,
   "id": "06d3f164-b3e3-40c5-acc0-81d72cb8f71b",
   "metadata": {},
   "outputs": [],
   "source": [
    "Question 4:"
   ]
  },
  {
   "cell_type": "code",
   "execution_count": null,
   "id": "c00a852a-fb7c-4d4d-a672-efcff3663dd9",
   "metadata": {},
   "outputs": [],
   "source": [
    "performance_rating = input(\"Enter performance rating (Excellent/Good/Satisfactory): \")\n",
    "years_of_service = int(input(\"Enter years of service: \"))\n",
    "\n",
    "if performance_rating == \"Excellent\" and years_of_service >= 5:\n",
    "    print(\"Eligible for bonus\")\n",
    "elif performance_rating == \"Good\" and years_of_service >= 10:\n",
    "    print(\"Eligible for bonus\")\n",
    "elif performance_rating == \"Satisfactory\" or years_of_service >= 15:\n",
    "    print(\"Eligible for bonus\")\n",
    "else:\n",
    "    print(\"Not eligible for bonus\")"
   ]
  },
  {
   "cell_type": "code",
   "execution_count": null,
   "id": "e28bba6e-30ae-407a-a2a4-4d1573d685ea",
   "metadata": {},
   "outputs": [],
   "source": []
  },
  {
   "cell_type": "code",
   "execution_count": null,
   "id": "ffc72384-8906-48e9-877f-f02b178d8ec2",
   "metadata": {},
   "outputs": [],
   "source": [
    "Question 5:"
   ]
  },
  {
   "cell_type": "code",
   "execution_count": null,
   "id": "16a7e4c7-d52b-45db-a70f-2809c758d695",
   "metadata": {},
   "outputs": [],
   "source": [
    "text = \"I'm learning Python programming\"\n",
    "modified_text = text.replace(\" \", \"_\")\n",
    "\n",
    "underscore_count = modified_text.count(\"_\")\n",
    "\n",
    "first_underscore_position = modified_text.find(\"_\")  \n",
    "if first_underscore_position != -1:\n",
    "    first_underscore_position += 1  \n",
    "\n",
    "\n",
    "print(\"Modified text:\", modified_text)\n",
    "print(\"Number of underscores:\", underscore_count)\n",
    "if underscore_count > 0:\n",
    "    print(\"Position of the first underscore (1-based):\", first_underscore_position)\n",
    "else:\n",
    "    print(\"No underscores found\")\n"
   ]
  },
  {
   "cell_type": "code",
   "execution_count": null,
   "id": "828d777f-cc99-44e9-b4f2-2586682f8568",
   "metadata": {},
   "outputs": [],
   "source": []
  },
  {
   "cell_type": "code",
   "execution_count": null,
   "id": "c6c310cc-63db-430f-a705-f304d2c104e3",
   "metadata": {},
   "outputs": [],
   "source": [
    "Question 6:"
   ]
  },
  {
   "cell_type": "code",
   "execution_count": null,
   "id": "f7193e22-3f3f-4a9b-a84c-6e8222142341",
   "metadata": {},
   "outputs": [],
   "source": [
    "input_string = input(\"Enter a string: \")\n",
    "\n",
    "print(\"All characters except the last 3:\", input_string[:-3])\n",
    "\n",
    "\n",
    "print(\"Every second character:\", input_string[::2])\n",
    "\n",
    "print(\"String in reverse:\", input_string[::-1])\n"
   ]
  },
  {
   "cell_type": "code",
   "execution_count": null,
   "id": "5ac06166-3986-45c8-8fdd-35a867f575a5",
   "metadata": {},
   "outputs": [],
   "source": []
  },
  {
   "cell_type": "code",
   "execution_count": null,
   "id": "0e8767f1-1baf-4b02-b3a9-e1e40f4b90ca",
   "metadata": {},
   "outputs": [],
   "source": [
    "Question 7:"
   ]
  },
  {
   "cell_type": "code",
   "execution_count": null,
   "id": "9467cce6-72be-48a7-b2c5-c89777a7abff",
   "metadata": {},
   "outputs": [],
   "source": [
    "def reverse_words(sentence):\n",
    "    words = sentence.split(\" \")\n",
    "    \n",
    "    reversed_words = words[::-1]\n",
    "    \n",
    "    reversed_sentence = \" \".join(reversed_words)\n",
    "    return reversed_sentence\n",
    "\n",
    "\n",
    "text = \"Hello World, We are learning Python\"\n",
    "\n",
    "result = reverse_words(text)\n",
    "print(result)\n"
   ]
  },
  {
   "cell_type": "code",
   "execution_count": null,
   "id": "c861f530-5e34-4f79-8095-7df6bcab4098",
   "metadata": {},
   "outputs": [],
   "source": []
  },
  {
   "cell_type": "code",
   "execution_count": null,
   "id": "88959ced-c280-46ed-adf8-0e2f1b2e50f5",
   "metadata": {},
   "outputs": [],
   "source": [
    "Question 8:"
   ]
  },
  {
   "cell_type": "code",
   "execution_count": null,
   "id": "1bc3c5e0-3e15-4fa1-99c6-cd98db940b02",
   "metadata": {},
   "outputs": [],
   "source": [
    "def extract_number(product_code):\n",
    "    # Remove the prefix and suffix\n",
    "    return product_code[4:-4]\n",
    "\n",
    "# Example product code\n",
    "product_code = \"SKU-12345-XYZ\"\n",
    "\n",
    "# Extract and print the number\n",
    "print(extract_number(product_code))\n"
   ]
  },
  {
   "cell_type": "code",
   "execution_count": null,
   "id": "35da7b5b-02b7-4ec9-8d12-aa7ee21d68e7",
   "metadata": {},
   "outputs": [],
   "source": []
  },
  {
   "cell_type": "code",
   "execution_count": null,
   "id": "1fb57983-2d7a-42b5-a771-db475792cd6b",
   "metadata": {},
   "outputs": [],
   "source": [
    "Question 9:"
   ]
  },
  {
   "cell_type": "code",
   "execution_count": null,
   "id": "d640a562-1fa5-4437-8dec-35db59550660",
   "metadata": {},
   "outputs": [],
   "source": []
  },
  {
   "cell_type": "code",
   "execution_count": null,
   "id": "74f97e1e-cb04-433e-9e8e-e75e0457bc22",
   "metadata": {},
   "outputs": [],
   "source": []
  },
  {
   "cell_type": "code",
   "execution_count": null,
   "id": "1bced746-13c7-4634-b121-cea4ef28dae4",
   "metadata": {},
   "outputs": [],
   "source": [
    "Question 10:"
   ]
  },
  {
   "cell_type": "code",
   "execution_count": null,
   "id": "2e4f3194-33cb-4d9a-a5f0-760761c3201a",
   "metadata": {},
   "outputs": [],
   "source": []
  },
  {
   "cell_type": "code",
   "execution_count": null,
   "id": "75a8311f-b1df-4f1f-9864-453bf6ed7cbd",
   "metadata": {},
   "outputs": [],
   "source": []
  },
  {
   "cell_type": "code",
   "execution_count": null,
   "id": "5b4d9232-6ca6-420f-9dc3-e9ada9e0e2b3",
   "metadata": {},
   "outputs": [],
   "source": []
  },
  {
   "cell_type": "code",
   "execution_count": null,
   "id": "e0189315-3ed9-4f80-a042-fb7b6ef1eb9a",
   "metadata": {},
   "outputs": [],
   "source": []
  },
  {
   "cell_type": "code",
   "execution_count": null,
   "id": "5a54c152-6637-40ed-afef-5d277cb56002",
   "metadata": {},
   "outputs": [],
   "source": []
  },
  {
   "cell_type": "code",
   "execution_count": null,
   "id": "b1f4b804-3cf6-4b47-990e-b91d3fe21b24",
   "metadata": {},
   "outputs": [],
   "source": []
  },
  {
   "cell_type": "code",
   "execution_count": null,
   "id": "4551a536-70a7-4597-bb6e-b4acd9d0fbf3",
   "metadata": {},
   "outputs": [],
   "source": []
  },
  {
   "cell_type": "code",
   "execution_count": null,
   "id": "93e34b0f-657c-4870-b74a-00167d1c8a86",
   "metadata": {},
   "outputs": [],
   "source": []
  },
  {
   "cell_type": "code",
   "execution_count": null,
   "id": "c3645800-578e-43cc-9e9c-576007f62d68",
   "metadata": {},
   "outputs": [],
   "source": []
  },
  {
   "cell_type": "code",
   "execution_count": null,
   "id": "14fa1458-6d2d-4c67-8ace-ef4074c7a4a8",
   "metadata": {},
   "outputs": [],
   "source": []
  },
  {
   "cell_type": "code",
   "execution_count": null,
   "id": "876c642a-3d18-4683-bc4a-9bfebad37108",
   "metadata": {},
   "outputs": [],
   "source": []
  },
  {
   "cell_type": "code",
   "execution_count": null,
   "id": "1ceb7604-3493-4c03-862e-529a9539445c",
   "metadata": {},
   "outputs": [],
   "source": []
  }
 ],
 "metadata": {
  "kernelspec": {
   "display_name": "Python 3 (ipykernel)",
   "language": "python",
   "name": "python3"
  },
  "language_info": {
   "codemirror_mode": {
    "name": "ipython",
    "version": 3
   },
   "file_extension": ".py",
   "mimetype": "text/x-python",
   "name": "python",
   "nbconvert_exporter": "python",
   "pygments_lexer": "ipython3",
   "version": "3.12.7"
  }
 },
 "nbformat": 4,
 "nbformat_minor": 5
}
