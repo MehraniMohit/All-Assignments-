{
 "cells": [
  {
   "cell_type": "code",
   "execution_count": null,
   "id": "e2c10769-092d-48fe-a5dd-16fb7e07aa2c",
   "metadata": {},
   "outputs": [],
   "source": [
    "Qestion 1"
   ]
  },
  {
   "cell_type": "code",
   "execution_count": 1,
   "id": "ea4df682-4742-4f84-8951-fb0027f1f3e3",
   "metadata": {},
   "outputs": [
    {
     "name": "stdout",
     "output_type": "stream",
     "text": [
      "The sum is: 12\n"
     ]
    }
   ],
   "source": [
    "def add_numbers(num1, num2):\n",
    "    return num1 + num2\n",
    "result = add_numbers(5, 7)\n",
    "print(\"The sum is:\", result)\n"
   ]
  },
  {
   "cell_type": "code",
   "execution_count": null,
   "id": "c5db2ff0-504d-462f-8c7d-c5fb58725bdc",
   "metadata": {},
   "outputs": [],
   "source": []
  },
  {
   "cell_type": "code",
   "execution_count": null,
   "id": "f204259d-c4fa-455c-9fb9-19c9a7d31a2a",
   "metadata": {},
   "outputs": [],
   "source": [
    "Question 2"
   ]
  },
  {
   "cell_type": "code",
   "execution_count": 2,
   "id": "1cadee55-1334-42ad-9f76-18e4f1a84851",
   "metadata": {},
   "outputs": [
    {
     "name": "stdout",
     "output_type": "stream",
     "text": [
      "The string 'Orange' contains 3 vowels.\n"
     ]
    }
   ],
   "source": [
    "def count_vowels(string):\n",
    "    vowels = \"aeiouAEIOU\"\n",
    "    count = 0\n",
    "    for char in string:\n",
    "        if char in vowels:\n",
    "            count += 1\n",
    "    return count\n",
    "result = count_vowels(\"Orange\")\n",
    "print(f\"The string 'Orange' contains {result} vowels.\")\n"
   ]
  },
  {
   "cell_type": "code",
   "execution_count": null,
   "id": "ab7ce188-0de1-432c-a153-2db0f78f3302",
   "metadata": {},
   "outputs": [],
   "source": []
  },
  {
   "cell_type": "code",
   "execution_count": null,
   "id": "57aba511-8bee-4d84-8ec8-270bff9ee514",
   "metadata": {},
   "outputs": [],
   "source": [
    "Question 3 "
   ]
  },
  {
   "cell_type": "code",
   "execution_count": 3,
   "id": "d4e6e95e-c649-4612-a26f-1206ee8fd89e",
   "metadata": {},
   "outputs": [
    {
     "name": "stdout",
     "output_type": "stream",
     "text": [
      "100 USD is equal to 28000 in the target currency (PKR).\n"
     ]
    }
   ],
   "source": [
    "def currency_converter(amount, exchange_rate=280):\n",
    "    converted_amount = amount * exchange_rate\n",
    "    return f\"{amount} USD is equal to {converted_amount} in the target currency (PKR).\"\n",
    "result = currency_converter(100)\n",
    "print(result)\n"
   ]
  },
  {
   "cell_type": "code",
   "execution_count": null,
   "id": "28ac4eb6-3c54-456a-ac0c-a23cf67c6c5b",
   "metadata": {},
   "outputs": [],
   "source": []
  },
  {
   "cell_type": "code",
   "execution_count": null,
   "id": "b6da8f09-bce7-4ce8-89a9-a7f1feddb761",
   "metadata": {},
   "outputs": [],
   "source": [
    "Question 4"
   ]
  },
  {
   "cell_type": "code",
   "execution_count": 8,
   "id": "5834a96e-34ed-4775-845d-cd02e6211b3e",
   "metadata": {},
   "outputs": [
    {
     "name": "stdout",
     "output_type": "stream",
     "text": [
      "Student Information:\n",
      "Name: Alice\n",
      "Age: 12\n",
      "Grade: 7th\n",
      "School: Bahria\n"
     ]
    }
   ],
   "source": [
    "def display_student_info( name, age, grade, school):\n",
    "    print(\"Student Information:\")\n",
    "    print(f\"Name: {name}\")\n",
    "    print(f\"Age: {age}\")\n",
    "    print(f\"Grade: {grade}\")\n",
    "    print(f\"School: {school}\")\n",
    "display_student_info(name=\"Alice\", age=12, grade=\"7th\", school=\"Bahria\")\n"
   ]
  },
  {
   "cell_type": "code",
   "execution_count": null,
   "id": "8efa24b7-c306-439d-8614-5b74c2d2b850",
   "metadata": {},
   "outputs": [],
   "source": []
  },
  {
   "cell_type": "code",
   "execution_count": null,
   "id": "7480f535-0232-4909-8bba-45ef18cc3d48",
   "metadata": {},
   "outputs": [],
   "source": [
    "Question 5"
   ]
  },
  {
   "cell_type": "code",
   "execution_count": 9,
   "id": "b0b03ea0-2378-47f1-9315-b198e0392ceb",
   "metadata": {},
   "outputs": [
    {
     "name": "stdout",
     "output_type": "stream",
     "text": [
      "The total price is: 150\n"
     ]
    }
   ],
   "source": [
    "def calculate_price(price, quantity):\n",
    "    return price * quantity\n",
    "total = calculate_price(50, 3)\n",
    "print(f\"The total price is: {total}\")\n"
   ]
  },
  {
   "cell_type": "code",
   "execution_count": null,
   "id": "4d7b5fd1-6325-424f-bbb9-c9ab41de81a5",
   "metadata": {},
   "outputs": [],
   "source": []
  },
  {
   "cell_type": "code",
   "execution_count": null,
   "id": "37233056-ffca-4781-953b-0a4cc2cf9a5b",
   "metadata": {},
   "outputs": [],
   "source": [
    "Question 6"
   ]
  },
  {
   "cell_type": "code",
   "execution_count": 10,
   "id": "101a54b9-6d10-44b3-920c-0e831cf84c35",
   "metadata": {},
   "outputs": [
    {
     "name": "stdout",
     "output_type": "stream",
     "text": [
      "Product: Laptop\n",
      "- Amazon: $800\n",
      "- eBay: $750\n",
      "- Walmart: $780\n"
     ]
    }
   ],
   "source": [
    "def display_prices(product, **prices):\n",
    "    print(f\"Product: {product}\")\n",
    "    for vendor, price in prices.items():\n",
    "        print(f\"- {vendor}: ${price}\")\n",
    "display_prices(\n",
    "    product=\"Laptop\",\n",
    "    Amazon=800,\n",
    "    eBay=750,\n",
    "    Walmart=780\n",
    ")\n"
   ]
  },
  {
   "cell_type": "code",
   "execution_count": null,
   "id": "85159775-c04b-4542-8274-32deb5a091a2",
   "metadata": {},
   "outputs": [],
   "source": []
  },
  {
   "cell_type": "code",
   "execution_count": null,
   "id": "e44eb961-06d3-4482-85e2-6d5f6da2fd24",
   "metadata": {},
   "outputs": [],
   "source": [
    "Question 7"
   ]
  },
  {
   "cell_type": "code",
   "execution_count": 11,
   "id": "3c506cb0-37ad-4231-99c3-9edb8ecbc7e4",
   "metadata": {},
   "outputs": [
    {
     "name": "stdout",
     "output_type": "stream",
     "text": [
      "The maximum number is: 78\n",
      "No numbers provided\n"
     ]
    }
   ],
   "source": [
    "def find_max(*numbers):\n",
    "    if not numbers:\n",
    "        return \"No numbers provided\"\n",
    "    return max(numbers)\n",
    "result = find_max(10, 45, 78, 23, 56)\n",
    "print(f\"The maximum number is: {result}\")\n",
    "\n",
    "empty_result = find_max()\n",
    "print(empty_result)\n"
   ]
  },
  {
   "cell_type": "code",
   "execution_count": null,
   "id": "db7d9aa5-8747-43ed-ad2f-fb59b1879fd8",
   "metadata": {},
   "outputs": [],
   "source": []
  },
  {
   "cell_type": "code",
   "execution_count": null,
   "id": "3d7c62f2-c6da-4038-8da3-677c8d4a6c2b",
   "metadata": {},
   "outputs": [],
   "source": [
    "Question 8"
   ]
  },
  {
   "cell_type": "code",
   "execution_count": 12,
   "id": "6f1b2be7-3476-4273-853e-798be8cd400e",
   "metadata": {},
   "outputs": [
    {
     "name": "stdout",
     "output_type": "stream",
     "text": [
      "Name: Mohit\n",
      "Age: 19\n",
      "Other Details:\n",
      "    - address: 123 garden St\n",
      "    - phone: 123-456-7890\n",
      "    - email: alice@example.com\n"
     ]
    }
   ],
   "source": [
    "def display_info(name, age, **other_details):\n",
    "    print(f\"Name: {name}\")\n",
    "    print(f\"Age: {age}\")\n",
    "    print(\"Other Details:\")\n",
    "    for key, value in other_details.items():\n",
    "        print(f\"    - {key}: {value}\")\n",
    "\n",
    "display_info(\n",
    "    name=\"Mohit\",\n",
    "    age=19,\n",
    "    address=\"123 garden St\",\n",
    "    phone=\"123-456-7890\",\n",
    "    email=\"alice@example.com\"\n",
    ")\n"
   ]
  },
  {
   "cell_type": "code",
   "execution_count": null,
   "id": "fad30051-1cda-4e4f-ac3e-abe42f55b691",
   "metadata": {},
   "outputs": [],
   "source": []
  },
  {
   "cell_type": "code",
   "execution_count": null,
   "id": "70b23f33-645f-46f3-b0ab-325590041a65",
   "metadata": {},
   "outputs": [],
   "source": [
    "Question 9"
   ]
  },
  {
   "cell_type": "code",
   "execution_count": 16,
   "id": "366fa9a5-affc-48fd-97a1-6fc875476405",
   "metadata": {},
   "outputs": [
    {
     "name": "stdout",
     "output_type": "stream",
     "text": [
      "Area: 15\n",
      "Perimeter: 16\n"
     ]
    }
   ],
   "source": [
    "def calculate_rectangle(length, width):\n",
    "    # Nested function to calculate the area of the rectangle\n",
    "    def calculate_area():\n",
    "        return length * width\n",
    "    \n",
    "    # Nested function to calculate the perimeter of the rectangle\n",
    "    def calculate_perimeter():\n",
    "        return 2 * (length + width)\n",
    "    \n",
    "    # Call both nested functions and return the area and perimeter\n",
    "    area = calculate_area()\n",
    "    perimeter = calculate_perimeter()\n",
    "    \n",
    "    return area, perimeter\n",
    "area, perimeter = calculate_rectangle(5, 3)\n",
    "print(f\"Area: {area}\")\n",
    "print(f\"Perimeter: {perimeter}\")\n"
   ]
  },
  {
   "cell_type": "code",
   "execution_count": null,
   "id": "2c042d1b-6329-470c-8cc5-99554656b8ef",
   "metadata": {},
   "outputs": [],
   "source": []
  },
  {
   "cell_type": "code",
   "execution_count": null,
   "id": "66f8004f-009d-488b-9b49-682e2ada25f4",
   "metadata": {},
   "outputs": [],
   "source": [
    "Question 10"
   ]
  },
  {
   "cell_type": "code",
   "execution_count": null,
   "id": "295ecdf4-e47b-480e-aac4-5a7c7c924cf1",
   "metadata": {},
   "outputs": [],
   "source": [
    "products = [\n",
    "    {\"name\": \"Laptop\", \"price\": 1200, \"in_stock\": True, \"discount\": 0.1},\n",
    "    {\"name\": \"Smartphone\", \"price\": 800, \"in_stock\": False, \"discount\": 0.05},\n",
    "    {\"name\": \"Headphones\", \"price\": 150, \"in_stock\": True, \"discount\": 0.2},\n",
    "    {\"name\": \"Smartwatch\", \"price\": 300, \"in_stock\": True, \"discount\": 0},\n",
    "    {\"name\": \"Keyboard\", \"price\": 100, \"in_stock\": True, \"discount\": 0.15}\n",
    "]\n",
    "\n",
    "in_stock_names = [product[\"name\"] for product in products if product[\"in_stock\"]]\n",
    "\n",
    "discounted_prices = [\n",
    "    (product[\"name\"], product[\"price\"] * (1 - product[\"discount\"]) if product[\"discount\"] > 0 else product[\"price\"])\n",
    "    for product in products if product[\"in_stock\"]\n",
    "]\n",
    "\n",
    "print(\"In-stock product names:\", in_stock_names)\n",
    "print(\"Discounted prices:\", discounted_prices)\n"
   ]
  },
  {
   "cell_type": "code",
   "execution_count": null,
   "id": "393d4914-28c2-42e1-be5f-9441b0e42d67",
   "metadata": {},
   "outputs": [],
   "source": []
  }
 ],
 "metadata": {
  "kernelspec": {
   "display_name": "Python 3 (ipykernel)",
   "language": "python",
   "name": "python3"
  },
  "language_info": {
   "codemirror_mode": {
    "name": "ipython",
    "version": 3
   },
   "file_extension": ".py",
   "mimetype": "text/x-python",
   "name": "python",
   "nbconvert_exporter": "python",
   "pygments_lexer": "ipython3",
   "version": "3.12.7"
  }
 },
 "nbformat": 4,
 "nbformat_minor": 5
}
